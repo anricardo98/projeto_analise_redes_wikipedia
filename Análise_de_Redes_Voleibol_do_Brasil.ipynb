{
  "nbformat": 4,
  "nbformat_minor": 0,
  "metadata": {
    "colab": {
      "name": "Análise de Redes - Voleibol do Brasil.ipynb",
      "provenance": []
    },
    "kernelspec": {
      "display_name": "Python 3",
      "name": "python3"
    },
    "language_info": {
      "name": "python"
    }
  },
  "cells": [
    {
      "cell_type": "markdown",
      "metadata": {
        "id": "NhIfQZDZXMTc"
      },
      "source": [
        "#1 - Instalações"
      ]
    },
    {
      "cell_type": "code",
      "metadata": {
        "colab": {
          "base_uri": "https://localhost:8080/"
        },
        "id": "Em4ynTq9XIgz",
        "outputId": "169065bd-9292-4621-b9d5-50448afc1d1b"
      },
      "source": [
        "#Instalando a biblioteca networkx e wikipedia\n",
        "!pip install networkx==2.6.2\n",
        "!pip install wikipedia"
      ],
      "execution_count": 1,
      "outputs": [
        {
          "output_type": "stream",
          "text": [
            "Requirement already satisfied: networkx==2.6.2 in /usr/local/lib/python3.7/dist-packages (2.6.2)\n",
            "Collecting wikipedia\n",
            "  Downloading wikipedia-1.4.0.tar.gz (27 kB)\n",
            "Requirement already satisfied: beautifulsoup4 in /usr/local/lib/python3.7/dist-packages (from wikipedia) (4.6.3)\n",
            "Requirement already satisfied: requests<3.0.0,>=2.0.0 in /usr/local/lib/python3.7/dist-packages (from wikipedia) (2.23.0)\n",
            "Requirement already satisfied: chardet<4,>=3.0.2 in /usr/local/lib/python3.7/dist-packages (from requests<3.0.0,>=2.0.0->wikipedia) (3.0.4)\n",
            "Requirement already satisfied: certifi>=2017.4.17 in /usr/local/lib/python3.7/dist-packages (from requests<3.0.0,>=2.0.0->wikipedia) (2021.5.30)\n",
            "Requirement already satisfied: idna<3,>=2.5 in /usr/local/lib/python3.7/dist-packages (from requests<3.0.0,>=2.0.0->wikipedia) (2.10)\n",
            "Requirement already satisfied: urllib3!=1.25.0,!=1.25.1,<1.26,>=1.21.1 in /usr/local/lib/python3.7/dist-packages (from requests<3.0.0,>=2.0.0->wikipedia) (1.24.3)\n",
            "Building wheels for collected packages: wikipedia\n",
            "  Building wheel for wikipedia (setup.py) ... \u001b[?25l\u001b[?25hdone\n",
            "  Created wheel for wikipedia: filename=wikipedia-1.4.0-py3-none-any.whl size=11696 sha256=90a46b72ff73dd0213836b0af703cc5ce469a053b4bfe31ac79d010cc2afd2b8\n",
            "  Stored in directory: /root/.cache/pip/wheels/15/93/6d/5b2c68b8a64c7a7a04947b4ed6d89fb557dcc6bc27d1d7f3ba\n",
            "Successfully built wikipedia\n",
            "Installing collected packages: wikipedia\n",
            "Successfully installed wikipedia-1.4.0\n"
          ],
          "name": "stdout"
        }
      ]
    },
    {
      "cell_type": "code",
      "metadata": {
        "id": "eIk_lQa6Xa4c"
      },
      "source": [
        "#Importação das bibliotecas\n",
        "from operator import itemgetter\n",
        "import networkx as nx\n",
        "import wikipedia\n",
        "import matplotlib.pyplot as plt"
      ],
      "execution_count": 2,
      "outputs": []
    },
    {
      "cell_type": "markdown",
      "metadata": {
        "id": "LkBI1u2SX6dn"
      },
      "source": [
        "#2 - Geração da Rede"
      ]
    },
    {
      "cell_type": "code",
      "metadata": {
        "id": "j12fTkTtYBdp"
      },
      "source": [
        "#Determinação do artigo a se basear\n",
        "#Link: https://en.wikipedia.org/wiki/European_Volleyball_Confederation\n",
        "SEED = \"Voleibol\".title()"
      ],
      "execution_count": 3,
      "outputs": []
    },
    {
      "cell_type": "code",
      "metadata": {
        "id": "iacxQg0VYdlZ"
      },
      "source": [
        "#todo_lst e todo_set armazenam dados não processados\n",
        "#todo_lst: dados ordenado que indica o dado a ser processado\n",
        "#todo_set: dado não ordenado que indica dados já processados na geração da rede\n",
        "\n",
        "todo_lst = [(0, SEED)] # A SEED na camada 0\n",
        "todo_set = set(SEED) # A SEED por si só\n",
        "done_set = set() #Como nada foi feito ainda, ficará vazio"
      ],
      "execution_count": 4,
      "outputs": []
    },
    {
      "cell_type": "code",
      "metadata": {
        "id": "vxZQmgW_ZryP"
      },
      "source": [
        "#Criação do Grafo Direcional\n",
        "g = nx.DiGraph()\n",
        "layer, page = todo_lst[0]"
      ],
      "execution_count": 5,
      "outputs": []
    },
    {
      "cell_type": "code",
      "metadata": {
        "colab": {
          "base_uri": "https://localhost:8080/"
        },
        "id": "Zqkdlf_qaJMw",
        "outputId": "67e3fca9-59fb-4975-8d6a-d70c602cceff"
      },
      "source": [
        "#Preenchimento do grafo\n",
        "%%time\n",
        "while layer < 2:\n",
        "  #Remove o nome da página da todo_list e adiciona no conjunto de paginas a serem processadas\n",
        "  #Se a página for encontrada novamento, o processo passará a página novamente. \n",
        "  del todo_lst[0]\n",
        "  done_set.add(page)\n",
        "  #Impressão do progresso\n",
        "  print(layer, page)\n",
        "  #Tentativa de download da página selecionada\n",
        "  try:\n",
        "    wiki = wikipedia.page(page)\n",
        "  except:\n",
        "    layer, page = todo_lst[0]\n",
        "    print(\"Não foi possível carregar a seguinte página:\", page)\n",
        "    continue\n",
        "  #Para cada link presente na página\n",
        "  #Iremos determinar o título da página e verificar se nele não está como lista\n",
        "  #Caso não esteja verificaremos se os links encontrados não estão dentro do que vão ser / foram processados nessa camada\n",
        "  #Caso não esteja será adicionado a camada posterior\n",
        "  for link in wiki.links:\n",
        "    link = link.title()\n",
        "    if not link.startswith(\"List Of\"):\n",
        "      if link not in todo_set and link not in done_set:\n",
        "        todo_lst.append((layer + 1, link))\n",
        "        todo_set.add(link)\n",
        "      g.add_edge(page, link)\n",
        "  layer, page = todo_lst[0]"
      ],
      "execution_count": 6,
      "outputs": [
        {
          "output_type": "stream",
          "text": [
            "0 Voleibol\n",
            "1 Afghanistan Volleyball Association\n",
            "1 Africa Beach Volleyball Championship\n",
            "1 Africa Women'S Beach Volleyball Championship\n",
            "1 African Clubs Championship (Volleyball)\n",
            "1 African Volleyball Championship U19\n",
            "1 African Volleyball Championship U21\n",
            "1 African Volleyball Confederation\n",
            "1 African Volleyball Cup Winners' Cup\n",
            "1 Albania\n",
            "1 Albanian Federation Of Volleyball\n",
            "1 Algerian Volleyball Federation\n",
            "1 Amateur Volleyball Association Of Macao\n",
            "1 American Samoa Volleyball Association\n",
            "1 Andorra\n",
            "1 Anguilla Volleyball Association\n",
            "1 Antigua And Barbuda Volleyball Association\n",
            "1 Argentine Volleyball Federation\n",
            "1 Armenia\n",
            "1 Aruba Volleyball Association\n",
            "1 Asian Boys' U18 Volleyball Championship\n",
            "1 Asian Girls' U17 Volleyball Championship\n",
            "1 Asian Men'S Club Volleyball Championship\n",
            "1 Asian Men'S U20 Volleyball Championship\n",
            "1 Asian Men'S U23 Volleyball Championship\n",
            "1 Asian Men'S Volleyball Challenge Cup\n",
            "1 Asian Men'S Volleyball Championship\n",
            "1 Asian Men'S Volleyball Cup\n",
            "1 Asian Volleyball Confederation\n",
            "1 Asian Women'S Club Volleyball Championship\n",
            "1 Asian Women'S U19 Volleyball Championship\n",
            "1 Asian Women'S U23 Volleyball Championship\n",
            "1 Asian Women'S Volleyball Challenge Cup\n",
            "1 Asian Women'S Volleyball Championship\n",
            "1 Asian Women'S Volleyball Cup\n",
            "1 Austria\n",
            "1 Azerbaijan\n",
            "1 Azerbaijan Volleyball Federation\n",
            "1 Badminton Europe\n",
            "1 Bahamas Volleyball Association\n",
            "1 Bahrain Volleyball Association\n",
            "1 Balkan Volleyball Association\n",
            "1 Bangladesh Volleyball Federation\n",
            "1 Barbados Volleyball Association\n",
            "1 Beach Volleyball\n",
            "1 Belarus\n",
            "1 Belarus Volleyball Federation\n",
            "1 Belgium\n",
            "1 Belize Volleyball Association\n",
            "1 Bermuda Volleyball Association\n",
            "1 Bhutan Volleyball Federation\n",
            "1 Blaksamband Íslands\n",
            "1 Bolivarian Games\n",
            "1 Bonairiaanse Volleyball Bond\n",
            "1 Bosnia And Herzegovina\n",
            "1 Botswana Volleyball Federation\n",
            "1 Boys' U17 European Volleyball Championship\n",
            "1 Boys' U17 South American Volleyball Championship\n",
            "1 Boys' Youth European Volleyball Championship\n",
            "1 Boys' Youth Norceca Volleyball Championship\n",
            "1 Boys' Youth South American Volleyball Championship\n",
            "1 Brazilian Volleyball Confederation\n",
            "1 British Virgin Islands Volleyball Association\n",
            "1 Brunei Amateur Volleyball Association\n"
          ],
          "name": "stdout"
        },
        {
          "output_type": "stream",
          "text": [
            "/usr/local/lib/python3.7/dist-packages/wikipedia/wikipedia.py:389: UserWarning: No parser was explicitly specified, so I'm using the best available HTML parser for this system (\"lxml\"). This usually isn't a problem, but if you run this code on another system, or in a different virtual environment, it may use a different parser and behave differently.\n",
            "\n",
            "The code that caused this warning is on line 389 of the file /usr/local/lib/python3.7/dist-packages/wikipedia/wikipedia.py. To get rid of this warning, pass the additional argument 'features=\"lxml\"' to the BeautifulSoup constructor.\n",
            "\n",
            "  lis = BeautifulSoup(html).find_all('li')\n"
          ],
          "name": "stderr"
        },
        {
          "output_type": "stream",
          "text": [
            "Não foi possível carregar a seguinte página: Bucharest\n",
            "1 Bucharest\n",
            "1 Buenos Aires\n",
            "1 Bulgaria\n",
            "1 Bulgarian Volleyball Federation\n",
            "1 Cev Challenge Cup\n",
            "1 Cev Champions League\n",
            "1 Cev Cup\n",
            "1 Cev Women'S Challenge Cup\n",
            "1 Cev Women'S Champions League\n",
            "1 Cambodia Volleyball Federation\n",
            "1 Cayman Islands Volleyball Federation\n",
            "1 Chinese Taipei Volleyball Association\n",
            "1 Chinese Volleyball Association\n",
            "1 Comité Européen De Rink-Hockey\n",
            "1 Commonwealth Of Independent States\n",
            "1 Confederación Sudamericana De Voleibol\n",
            "1 Confederation Of European Baseball\n",
            "1 Cook Islands Volleyball Association\n",
            "1 Croatia\n",
            "1 Croatian Volleyball Federation\n",
            "1 Curaçaose Volleyball Bond\n",
            "Não foi possível carregar a seguinte página: Cyprus\n",
            "1 Cyprus\n",
            "1 Cyprus Volleyball Federation\n",
            "1 Czech Republic\n",
            "1 Czech Volleyball Association\n",
            "1 Dhl Express\n",
            "Não foi possível carregar a seguinte página: Dansk Volleyball Forbund\n",
            "1 Dansk Volleyball Forbund\n",
            "Não foi possível carregar a seguinte página: Denizbank\n",
            "1 Denizbank\n",
            "1 Denmark\n",
            "1 Dominica Volleyball Association\n",
            "Não foi possível carregar a seguinte página: Dominican Republic Volleyball Federation\n",
            "1 Dominican Republic Volleyball Federation\n",
            "1 East Germany\n",
            "1 Eastern European Volleyball Zonal Association\n",
            "Não foi possível carregar a seguinte página: Eesti Võrkpalli Liit\n",
            "1 Eesti Võrkpalli Liit\n",
            "Não foi possível carregar a seguinte página: Egyptian Volleyball Federation\n",
            "1 Egyptian Volleyball Federation\n",
            "1 England\n",
            "1 Eritrean National Volleyball Federation\n",
            "1 Estonia\n",
            "1 Ethiopian Volleyball Federation\n",
            "1 European Athletic Association\n",
            "1 European Beach Volleyball Championships\n",
            "1 European Beach Volleyball Tour\n",
            "1 European Boxing Union\n",
            "1 European Canoe Association\n",
            "1 European Confederation Of Roller Skating\n",
            "1 European Council Of Associated Wrestling\n",
            "1 European Cricket Council\n",
            "1 European Curling Federation\n",
            "1 European Federation Of Radio Operated Model Automobiles\n",
            "1 European Fencing Confederation\n",
            "1 European Games\n",
            "1 European Golf Association\n",
            "1 European Gymnastics\n",
            "1 European Handball Federation\n",
            "1 European Hockey Federation\n",
            "1 European Judo Union\n",
            "1 European Karate Federation\n",
            "1 European Lacrosse Federation\n",
            "1 European Minifootball Federation\n",
            "1 European Minigolf Sport Federation\n",
            "1 European Olympic Committees\n",
            "1 European Paralympic Committee\n",
            "1 European Pitch And Putt Association\n",
            "1 European Pocket Billiard Federation\n",
            "1 European Shooting Confederation\n",
            "1 European Snow Volleyball Championships\n",
            "1 European Snow Volleyball Tour\n",
            "1 European Softball Federation\n",
            "1 European Squash Federation\n",
            "1 European Table Tennis Union\n",
            "1 European Taekwondo Union\n",
            "1 European Tenpin Bowling Federation\n",
            "1 European Triathlon Union\n",
            "1 European U18 Beach Volleyball Championships\n",
            "1 European U20 Beach Volleyball Championships\n",
            "1 European U22 Beach Volleyball Championships\n",
            "1 European Union Of Futsal\n",
            "1 European University Sports Association\n",
            "1 European Volleyball Championship Of The Small Countries Division\n",
            "1 European Weightlifting Federation\n",
            "1 Fiba Europe\n",
            "1 Fim Europe\n",
            "1 Fivb\n",
            "Não foi possível carregar a seguinte página: Fivb Volleyball Boys' U19 World Championship\n",
            "1 Fivb Volleyball Boys' U19 World Championship\n",
            "1 Fivb Volleyball Girls' U18 World Championship\n",
            "Não foi possível carregar a seguinte página: Fivb Volleyball Men'S Challenger Cup\n",
            "1 Fivb Volleyball Men'S Challenger Cup\n",
            "1 Fivb Volleyball Men'S Club World Championship\n",
            "1 Fivb Volleyball Men'S Nations League\n",
            "1 Fivb Volleyball Men'S U21 World Championship\n",
            "1 Fivb Volleyball Men'S U23 World Championship\n",
            "1 Fivb Volleyball Men'S World Championship\n",
            "Não foi possível carregar a seguinte página: Fivb Volleyball Men'S World Cup\n",
            "1 Fivb Volleyball Men'S World Cup\n",
            "1 Fivb Volleyball Women'S Challenger Cup\n",
            "1 Fivb Volleyball Women'S Club World Championship\n",
            "1 Fivb Volleyball Women'S Nations League\n",
            "1 Fivb Volleyball Women'S U20 World Championship\n",
            "1 Fivb Volleyball Women'S U23 World Championship\n",
            "1 Fivb Volleyball Women'S World Championship\n",
            "1 Fivb Volleyball Women'S World Cup\n",
            "1 Fivb Volleyball World Grand Champions Cup\n",
            "1 Fivb Volleyball World Grand Prix\n",
            "1 Fivb Volleyball World League\n",
            "1 Fivb World Rankings\n",
            "Não foi possível carregar a seguinte página: Faroe Islands\n",
            "1 Faroe Islands\n",
            "Não foi possível carregar a seguinte página: Federació Andorrana De Voleibol\n",
            "1 Federació Andorrana De Voleibol\n",
            "1 Federación Boliviana De Voleibol\n",
            "1 Federación Colombiana De Voleibol\n",
            "1 Federación Costarricense De Voleibol\n",
            "1 Federación Cubana De Voleibol\n",
            "1 Federación Ecuatoguineana De Voleibol\n",
            "1 Federación Ecuatoriana De Voleibol\n",
            "1 Federación Guatemalteca De Voleibol\n",
            "Não foi possível carregar a seguinte página: Federación Hondureña De Voleibol\n",
            "1 Federación Hondureña De Voleibol\n",
            "1 Federación Mexicana De Voleibol\n",
            "1 Federación Nicaragüense De Voleibol\n",
            "1 Federación Panameña De Voleibol\n",
            "1 Federación Paraguaya De Voleibol\n",
            "1 Federación Salvadoreña De Voleibol\n",
            "1 Federación Uruguaya De Voleibol\n",
            "1 Federación Venezolana De Voleibol\n",
            "1 Federación De Voleibol De Chile\n",
            "1 Federated States Of Micronesia Volleyball Association\n",
            "1 Federation Burkinabe De Volley-Ball\n",
            "1 Federation Centrafricaine De Volleyball\n",
            "1 Federation De Volleyball De Tuvalu\n",
            "1 Federation Gabonaise De Volley-Ball\n",
            "1 Federazione Italiana Pallavolo\n",
            "1 Federazione Sammarinese Pallavolo\n",
            "1 Federação Angolana De Voleibol\n",
            "1 Federação Cabo-Verdiana De Voleibol\n",
            "1 Federação Moçambicana De Voleibol\n",
            "1 Federação Santomense De Voleibol\n",
            "1 Federaţia Română De Volei\n",
            "Não foi possível carregar a seguinte página: Fiji Volleyball Federation\n",
            "1 Fiji Volleyball Federation\n",
            "1 Finland\n",
            "1 Flogbóltssamband Føroya\n",
            "1 France\n",
            "1 French Language\n",
            "1 Futsal European Federation\n",
            "1 Fédération Beninoise De Volley-Ball\n",
            "1 Fédération Burundaise De Volleyball\n",
            "1 Fédération Camerounaise De Volley-Ball\n",
            "1 Fédération Comorienne De Volley-Ball\n",
            "1 Fédération Congolaise De Volley-Ball\n",
            "1 Fédération Djiboutienne De Volley-Ball\n",
            "1 Fédération Française De Volleyball\n",
            "1 Fédération Guineenne De Volley-Ball\n",
            "Não foi possível carregar a seguinte página: Fédération Internationale De Volleyball\n",
            "1 Fédération Internationale De Volleyball\n",
            "1 Fédération Ivoirienne De Volley-Ball\n",
            "1 Fédération Luxembourgeoise De Volleyball\n",
            "1 Fédération Malagasy De Volleyball\n",
            "1 Fédération Malienne De Volleyball\n",
            "1 Fédération Mauritanienne De Volley-Ball\n",
            "1 Fédération Monégasque De Volleyball\n",
            "1 Fédération Nigerienne De Volley-Ball\n",
            "Não foi possível carregar a seguinte página: Fédération Royale Belge De Volleyball\n",
            "1 Fédération Royale Belge De Volleyball\n",
            "1 Fédération Rwandaise De Volleyball\n",
            "1 Fédération Senegalaise De Volley-Ball\n",
            "Não foi possível carregar a seguinte página: Fédération Tchadienne De Volley-Ball\n",
            "1 Fédération Tchadienne De Volley-Ball\n",
            "1 Fédération Togolaise De Volley-Ball\n",
            "1 Fédération De Volley-Ball Du Congo\n",
            "1 Fédération De Volleyball De La Republique D'Armenie\n",
            "1 Fédération De Volleyball De La Republique De Moldavie\n",
            "Não foi possível carregar a seguinte página: Fédération De Volleyball De La Sierra Leone\n",
            "1 Fédération De Volleyball De La Sierra Leone\n",
            "1 Gambia Volleyball Association\n",
            "1 Georgia (Country)\n",
            "1 Georgian Volleyball Federation\n",
            "Não foi possível carregar a seguinte página: German Volleyball Association\n",
            "1 German Volleyball Association\n",
            "1 Germany\n",
            "1 Ghana Volleyball Association\n",
            "1 Gibraltar\n",
            "1 Gibraltar Volleyball Association\n",
            "1 Girls' Africa Volleyball Championship U18\n",
            "1 Girls' U16 European Volleyball Championship\n",
            "1 Girls' U16 South American Volleyball Championship\n",
            "1 Girls' Youth European Volleyball Championship\n",
            "1 Girls' Youth Norceca Volleyball Championship\n",
            "1 Girls' Youth South American Volleyball Championship\n",
            "1 Goodwill Games\n",
            "1 Greece\n",
            "1 Greenland\n",
            "Não foi possível carregar a seguinte página: Grenada Volleyball Association\n",
            "1 Grenada Volleyball Association\n",
            "1 Guam Volleyball Federation\n",
            "1 Guyana Volleyball Federation\n",
            "1 Haiti Volleyball Association\n",
            "1 Headquarters\n",
            "1 Hellenic Volleyball Federation\n",
            "1 Hungary\n",
            "1 Ifaf Europe\n",
            "1 Iceland\n",
            "1 Igud Hakadur'Af Beisrael\n",
            "Não foi possível carregar a seguinte página: Indonesian Volleyball Federation\n",
            "1 Indonesian Volleyball Federation\n",
            "1 Iraq Center Volleyball Federation\n",
            "1 Islamic Republic Of Iran Volleyball Federation\n",
            "1 Israel\n",
            "1 Italian Volleyball Federation\n",
            "1 Italy\n",
            "Não foi possível carregar a seguinte página: Jamaica Volleyball Federation\n",
            "1 Jamaica Volleyball Federation\n",
            "1 Japan Volleyball Association\n",
            "1 Jordan Volleyball Federation\n",
            "1 Kalaallit Nunaanni Volleyballertartut Kattuffiat\n",
            "1 Kenya Volleyball Association\n",
            "1 Kiribati Volleyball Federation\n",
            "1 Korea Volleyball Association\n",
            "1 Kosovo\n",
            "1 Kuwait Volleyball Association\n",
            "1 Kyrgyzstan Volleyball Federation\n",
            "1 Len\n",
            "Não foi possível carregar a seguinte página: Lao Volleyball Federation\n",
            "1 Lao Volleyball Federation\n",
            "1 Latvia\n",
            "1 Latvijas Volejbola Federācija\n",
            "Não foi possível carregar a seguinte página: Lebanese Volleyball Federation\n",
            "1 Lebanese Volleyball Federation\n",
            "1 Lesotho National Volleyball Association\n",
            "1 Liberia Volleyball Federation\n",
            "1 Libyan Volleyball Federation\n",
            "1 Liechtenstein\n",
            "1 Liechtensteiner Volleyball Verband\n",
            "Não foi possível carregar a seguinte página: Ligue Guadeloupe De Volleyball\n",
            "1 Ligue Guadeloupe De Volleyball\n",
            "Não foi possível carregar a seguinte página: Ligue De Guyane De Volley-Ball\n",
            "1 Ligue De Guyane De Volley-Ball\n",
            "Não foi possível carregar a seguinte página: Ligue De Volley-Ball De Saint-Martin\n",
            "1 Ligue De Volley-Ball De Saint-Martin\n",
            "1 Lithuania\n",
            "1 Lithuanian Volleyball Federation\n",
            "1 Luxembourg\n",
            "1 Luxembourg, Luxembourg\n",
            "1 Mevza League\n",
            "1 Macedonian Volleyball Federation\n",
            "1 Magyar Röplabda Szövetség\n",
            "1 Major Achievements In Volleyball By Nation\n",
            "1 Malaysia Amateur Volleyball Association\n",
            "1 Malta\n",
            "1 Malta Volleyball Association\n",
            "1 Martinique Volleyball Federation\n",
            "1 Mauritius Volleyball Association\n",
            "1 Men'S African Volleyball Championship\n",
            "1 Men'S European Volleyball Championship\n",
            "1 Men'S European Volleyball League\n",
            "1 Men'S Junior European Volleyball Championship\n",
            "1 Men'S Junior Norceca Volleyball Championship\n",
            "1 Men'S Junior South American Volleyball Championship\n",
            "1 Men'S Norceca Volleyball Championship\n",
            "1 Men'S Pan-American Volleyball Cup\n",
            "1 Men'S South American Volleyball Championship\n",
            "1 Men'S South American Volleyball Club Championship\n",
            "1 Men'S U23 African Volleyball Championship\n",
            "1 Men'S U23 South American Volleyball Championship\n",
            "1 Middle European Volleyball Zonal Association\n",
            "1 Mikasa Sports\n",
            "1 Moldova\n",
            "1 Monaco\n",
            "Não foi possível carregar a seguinte página: Montenegro\n",
            "1 Montenegro\n",
            "1 Montserrat Volleyball Federation\n",
            "1 Moroccan Royal Volleyball Federation\n",
            "1 Myanmar Volleyball Federation\n",
            "1 Nevza Clubs Championship\n",
            "1 Namibian Volleyball Federation\n",
            "Não foi possível carregar a seguinte página: Nauru Volleyball Association\n",
            "1 Nauru Volleyball Association\n",
            "1 Nepal Volleyball Association\n",
            "1 Netherlands\n",
            "1 Netherlands Volleyball Association\n",
            "1 Nigerian Volleyball Federation\n",
            "1 Niue Island Volleyball Association\n",
            "1 Norges Volleyballforbund\n",
            "Não foi possível carregar a seguinte página: North, Central America And Caribbean Volleyball Confederation\n",
            "1 North, Central America And Caribbean Volleyball Confederation\n",
            "Não foi possível carregar a seguinte página: North Macedonia\n",
            "1 North Macedonia\n",
            "1 Northern Ireland\n",
            "Não foi possível carregar a seguinte página: Northern Ireland Volleyball Association\n",
            "1 Northern Ireland Volleyball Association\n",
            "1 Norway\n",
            "Não foi possível carregar a seguinte página: Odbojkarska Zveza Slovenije\n",
            "1 Odbojkarska Zveza Slovenije\n",
            "1 Odbojkaški Savez Bosne I Hercegovine\n",
            "1 Olympic Sports\n",
            "1 Oman Volleyball Association\n",
            "1 Pakistan Volleyball Federation\n",
            "1 Palau Amateur Volleyball Association\n",
            "1 Palestine Volleyball Association\n",
            "1 Papua New Guinea Amateur Volleyball Federation\n",
            "1 Peruvian Volleyball Federation\n",
            "1 Philippine National Volleyball Federation\n",
            "1 Poland\n",
            "1 Polish Volleyball Association\n",
            "1 Portugal\n",
            "Não foi possível carregar a seguinte página: Portuguese Volleyball Federation\n",
            "1 Portuguese Volleyball Federation\n",
            "1 Puerto Rican Volleyball Federation\n",
            "1 Qatar Volleyball Association\n",
            "1 Real Federación Española De Voleibol\n",
            "1 Republic Of Ireland\n",
            "1 Republic Of The Marshall Islands Volleyball Federation\n",
            "1 Romania\n",
            "Não foi possível carregar a seguinte página: Rugby Europe\n",
            "1 Rugby Europe\n",
            "1 Rugby League European Federation\n",
            "1 Russia\n",
            "1 Saba Volleyball Association\n",
            "Não foi possível carregar a seguinte página: Saint Vincent And The Grenadines Volleyball Federation\n",
            "1 Saint Vincent And The Grenadines Volleyball Federation\n",
            "1 Saipan Amateur Volleyball Association\n",
            "1 San Marino\n",
            "Não foi possível carregar a seguinte página: San Marino Volleyball Federation\n",
            "1 San Marino Volleyball Federation\n",
            "1 Saudi Arabia Volleyball Federation\n",
            "1 Sberbank Of Russia\n",
            "1 Scotland\n",
            "1 Scottish Volleyball Association\n",
            "1 Serbia\n",
            "1 Seychelles Volleyball Federation\n",
            "1 Sint Eustatius Volleyball Association\n",
            "1 Sint Maarten Volleyball Association\n",
            "1 Slovakia\n",
            "1 Slovakian Volleyball Federation\n",
            "1 Slovenia\n",
            "1 Small Countries Association (Sca)\n",
            "1 Snow Volleyball\n",
            "1 Socialist Republic Of Romania\n",
            "1 Solomon Islands Volleyball Federation\n",
            "1 Spain\n",
            "Não foi possível carregar a seguinte página: Sport Governing Body\n",
            "1 Sport Governing Body\n",
            "1 Sri Lanka Volleyball Federation\n",
            "1 Staint Kitts And Nevis Volleyball Federation\n",
            "Não foi possível carregar a seguinte página: Staint Lucia Volleyball Association\n",
            "1 Staint Lucia Volleyball Association\n",
            "Não foi possível carregar a seguinte página: Sudan Volleyball Association\n",
            "1 Sudan Volleyball Association\n",
            "1 Suomen Lentopalloliitto F. Y.\n",
            "Não foi possível carregar a seguinte página: Surinaamse Volleyball Bond\n",
            "1 Surinaamse Volleyball Bond\n",
            "Não foi possível carregar a seguinte página: Swaziland National Volleyball Association\n",
            "1 Swaziland National Volleyball Association\n",
            "1 Sweden\n",
            "1 Swedish Volleyball Federation\n",
            "1 Swiss Volley\n",
            "1 Switzerland\n",
            "1 Syrian Arab Volleyball Federation\n",
            "1 Tanzania Volleyball Association\n",
            "1 Tennis Europe\n",
            "1 The Amateur Volleyball Association Of Thailand\n",
            "1 The North European Volleyball Zonal Association\n",
            "1 The Volleyball Association Of The D.P.R. Korea\n",
            "1 Tonga National Volleyball Association\n",
            "1 Trinidad & Tobago Volleyball Federation\n",
            "1 Tunisian Volleyball Federation\n",
            "1 Turkey\n",
            "1 Turkish Volleyball Federation\n",
            "1 Turkmenistan Volleyball Federation\n",
            "1 Turks & Caicos Volleyball Association\n",
            "1 Uefa\n",
            "1 Usa Volleyball\n",
            "1 Ussr\n",
            "Não foi possível carregar a seguinte página: Us Virgin Island Volleyball Association\n",
            "1 Us Virgin Island Volleyball Association\n",
            "1 Uganda Volleyball Federation\n",
            "1 Ukraine\n",
            "1 Ukrainian Volleyball Federation\n",
            "1 Union Européenne De Cyclisme\n",
            "1 United Arab Emirates Volleyball Association\n",
            "1 Uzbekistan Volleyball Federation\n",
            "1 Vanuatu Amateur Volleyball\n",
            "1 Volleyball\n",
            "1 Volleyball America'S Cup\n",
            "1 Volleyball Association Of Malawi\n",
            "1 Volleyball Association Of Hong Kong\n",
            "1 Volleyball Association Of Ireland\n",
            "1 Volleyball Association Of Maldives\n",
            "1 Volleyball Association Of Singapore\n",
            "1 Volleyball Australia\n",
            "1 Volleyball Canada\n",
            "1 Volleyball England\n",
            "1 Volleyball Federation Of India\n",
            "1 Volleyball Federation Of Kosovo\n",
            "1 Volleyball Federation Of Mongolia\n",
            "1 Volleyball Federation Of Montenegro\n",
            "1 Volleyball Federation Of Republic Of Kazakhstan\n",
            "1 Volleyball Federation Of Russia\n",
            "1 Volleyball Federation Of Serbia\n",
            "1 Volleyball Federation Of Tahiti\n",
            "1 Volleyball Federation Of Tajikistan\n",
            "1 Volleyball Federation Of Vietnam\n",
            "1 Volleyball New Zealand\n",
            "1 Volleyball Olympic Tournament\n",
            "1 Volleyball South Africa\n",
            "1 Volleyball At The 2015 European Games\n",
            "1 Volleyball At The African Games\n",
            "1 Volleyball At The Asian Games\n",
            "1 Volleyball At The Central American And Caribbean Games\n",
            "1 Volleyball At The Lusophone Games\n",
            "1 Volleyball At The Mediterranean Games\n",
            "1 Volleyball At The Pacific Games\n",
            "1 Volleyball At The Pan American Games\n",
            "1 Volleyball At The Pan Arab Games\n",
            "1 Volleyball At The South American Games\n",
            "1 Volleyball At The Summer Olympics\n",
            "1 Volleyball At The Summer Universiade\n",
            "1 Volleyball Records And Statistics\n",
            "1 Wales\n",
            "Não foi possível carregar a seguinte página: Wayback Machine\n",
            "1 Wayback Machine\n",
            "1 Welsh Volleyball Association\n",
            "1 West Germany\n",
            "1 Western European Volleyball Zonal Association\n",
            "1 Western Samoa Volleyball Association\n",
            "1 Women'S Africa Volleyball Championship U20\n",
            "1 Women'S African Clubs Championship (Volleyball)\n",
            "1 Women'S African Cup Winners' Cup (Volleyball)\n",
            "1 Women'S African Volleyball Championship\n",
            "1 Women'S Cev Cup\n",
            "1 Women'S European Volleyball Championship\n",
            "1 Women'S European Volleyball League\n",
            "1 Women'S Junior European Volleyball Championship\n",
            "1 Women'S Junior Norceca Volleyball Championship\n",
            "1 Women'S Junior South American Volleyball Championship\n",
            "1 Women'S Norceca Volleyball Championship\n",
            "1 Women'S Pan-American Volleyball Cup\n",
            "1 Women'S South American Volleyball Championship\n",
            "1 Women'S South American Volleyball Club Championship\n",
            "1 Women'S U22 South American Volleyball Championship\n",
            "1 Women'S U23 African Volleyball Championship\n",
            "1 World Archery Europe\n",
            "1 World War I\n",
            "1 Yemen Volleyball Association\n",
            "1 Youth Olympic Games\n",
            "1 Zambia Volleyball Association\n",
            "1 Zimbabwe Volleyball Association\n",
            "1 Österreichischer Volleyball Verband\n",
            "CPU times: user 30.5 s, sys: 2.17 s, total: 32.7 s\n",
            "Wall time: 5min 40s\n"
          ],
          "name": "stdout"
        }
      ]
    },
    {
      "cell_type": "code",
      "metadata": {
        "colab": {
          "base_uri": "https://localhost:8080/"
        },
        "id": "2VTbecnqeWx8",
        "outputId": "0a91f035-9cc2-49c4-cf79-02926b652c36"
      },
      "source": [
        "print(\"{} nós, {} links\".format(len(g), nx.number_of_edges(g)))"
      ],
      "execution_count": 7,
      "outputs": [
        {
          "output_type": "stream",
          "text": [
            "75667 nós, 196099 links\n"
          ],
          "name": "stdout"
        }
      ]
    },
    {
      "cell_type": "markdown",
      "metadata": {
        "id": "eDxnG00wgvgw"
      },
      "source": [
        "#3 - Limpeza dos dados"
      ]
    },
    {
      "cell_type": "code",
      "metadata": {
        "id": "p9ZXEZ0Lg3eo"
      },
      "source": [
        "#Realizando uma cópia do grafo original\n",
        "original = g.copy()"
      ],
      "execution_count": 8,
      "outputs": []
    },
    {
      "cell_type": "code",
      "metadata": {
        "id": "wPbrEG4mhDJD"
      },
      "source": [
        "# Remoção de loops de um nó consigo mesmo\n",
        "g.remove_edges_from(nx.selfloop_edges(g))"
      ],
      "execution_count": 9,
      "outputs": []
    },
    {
      "cell_type": "code",
      "metadata": {
        "colab": {
          "base_uri": "https://localhost:8080/"
        },
        "id": "LS3LzP8ehOKc",
        "outputId": "320f70ca-1b52-40e0-ce43-b38187d0702a"
      },
      "source": [
        "# Identificando duplicatas entre plural como: 'network' e 'networks'\n",
        "duplicates = [(node, node + \"s\") \n",
        "              for node in g if node + \"s\" in g\n",
        "             ]\n",
        "for dup in duplicates:\n",
        "  # *dup is a technique named 'unpacking'\n",
        "  g = nx.contracted_nodes(g, *dup, self_loops=False)\n",
        "print(duplicates)\n",
        "duplicates = [(x, y) for x, y in \n",
        "              [(node, node.replace(\"-\", \" \")) for node in g]\n",
        "                if x != y and y in g]\n",
        "print(duplicates)\n",
        "for dup in duplicates:\n",
        "  g = nx.contracted_nodes(g, *dup, self_loops=False)"
      ],
      "execution_count": 10,
      "outputs": [
        {
          "output_type": "stream",
          "text": [
            "[('Sport', 'Sports'), ('Ancient Greek', 'Ancient Greeks'), ('Architectural Style', 'Architectural Styles'), ('Birth Rate', 'Birth Rates'), ('Catholic', 'Catholics'), ('Dairy Product', 'Dairy Products'), ('Gheg Albanian', 'Gheg Albanians'), ('Great Power', 'Great Powers'), ('Illyrian Tribe', 'Illyrian Tribes'), ('Indo-European Language', 'Indo-European Languages'), ('Island', 'Islands'), ('Language', 'Languages'), ('Movie Theater', 'Movie Theaters'), ('Neanderthal', 'Neanderthals'), ('Protestant', 'Protestants'), ('Romani Language', 'Romani Languages'), ('World Heritage Site', 'World Heritage Sites'), ('Cereal', 'Cereals'), ('Chinese Dragon', 'Chinese Dragons'), ('Cistercian', 'Cistercians'), ('Extermination Camp', 'Extermination Camps'), ('Fossil Fuel', 'Fossil Fuels'), ('Magnate', 'Magnates'), ('Nuclear Power Plant', 'Nuclear Power Plants'), ('Saint', 'Saints'), ('Soft Drink', 'Soft Drinks'), ('Temperate Broadleaf And Mixed Forest', 'Temperate Broadleaf And Mixed Forests'), ('Ultra', 'Ultras'), ('Viking', 'Vikings'), ('Vocational School', 'Vocational Schools'), ('Atoll', 'Atolls'), ('Christian Denomination', 'Christian Denominations'), ('Commune', 'Communes'), ('District', 'Districts'), ('Pacific Islander', 'Pacific Islanders'), ('Polynesian Outlier', 'Polynesian Outliers'), ('Roman Catholic', 'Roman Catholics'), ('Season', 'Seasons'), ('Guild', 'Guilds'), ('Manor House', 'Manor Houses'), ('Romance Language', 'Romance Languages'), ('Tax Haven', 'Tax Havens'), ('Winter Olympic', 'Winter Olympics'), ('Armenian Highland', 'Armenian Highlands'), ('Enclave', 'Enclaves'), ('Winter Sport', 'Winter Sports'), ('Yazidi', 'Yazidis'), ('Summer Olympic', 'Summer Olympics'), ('Aboriginal Australian', 'Aboriginal Australians'), ('Anglican', 'Anglicans'), ('Anglo-Celtic Australian', 'Anglo-Celtic Australians'), ('Chinese Australian', 'Chinese Australians'), ('Cyclone', 'Cyclones'), ('English Australian', 'English Australians'), ('Exclusive Economic Zone', 'Exclusive Economic Zones'), ('Filipino Australian', 'Filipino Australians'), ('German Australian', 'German Australians'), ('Greek Australian', 'Greek Australians'), ('Indian Australian', 'Indian Australians'), ('Indigenous Australian', 'Indigenous Australians'), ('Irish Australian', 'Irish Australians'), ('Italian Australian', 'Italian Australians'), ('National Anthem', 'National Anthems'), ('Refugee', 'Refugees'), ('Scottish Australian', 'Scottish Australians'), ('Vietnamese Australian', 'Vietnamese Australians'), ('Bolshevik', 'Bolsheviks'), ('Jew', 'Jews'), ('Kurdish Language', 'Kurdish Languages'), ('Muslim', 'Muslims'), ('Sunni Muslim', 'Sunni Muslims'), ('Turkic Language', 'Turkic Languages'), ('Vassal', 'Vassals'), ('Vassal State', 'Vassal States'), ('Asian Beach Volleyball Championship', 'Asian Beach Volleyball Championships'), ('Moscow Time', 'Moscow Times'), ('Oblast', 'Oblasts'), ('Gaul', 'Gauls'), ('Habsburg', 'Habsburgs'), ('Immigrant', 'Immigrants'), ('Merovingian', 'Merovingians'), ('Flute', 'Flutes'), ('Grand Vizier', 'Grand Viziers'), ('Art Movement', 'Art Movements'), ('Buenos Aires Botanical Garden', 'Buenos Aires Botanical Gardens'), ('Pampa', 'Pampas'), ('South American', 'South Americans'), ('Death Rate', 'Death Rates'), ('Mammal', 'Mammals'), ('Coral Reef', 'Coral Reefs'), ('Tropical Cyclone', 'Tropical Cyclones'), (\"Iihf World Women'S Championship\", \"Iihf World Women'S Championships\"), ('World Championship', 'World Championships'), ('War In Donbas', 'War In Donbass'), ('Headquarter', 'Headquarters'), ('Congregationalist', 'Congregationalists'), ('Croat', 'Croats'), ('Shooting Sport', 'Shooting Sports'), ('Yugoslav Partisan', 'Yugoslav Partisans'), ('Archaeologist', 'Archaeologists'), ('Geneva Convention', 'Geneva Conventions'), ('International Dollar', 'International Dollars'), ('Larger Urban Zone', 'Larger Urban Zones'), ('Lute', 'Lutes'), ('Turkish Cypriot', 'Turkish Cypriots'), ('Crusade', 'Crusades'), ('Firearm', 'Firearms'), ('Hussite', 'Hussites'), ('Pale Lager', 'Pale Lagers'), ('Civil Union', 'Civil Unions'), ('Environmental Issue', 'Environmental Issues'), ('Golden Globe Award', 'Golden Globe Awards'), ('Indigenous People', 'Indigenous Peoples'), ('Lutheran', 'Lutherans'), ('Academy Award', 'Academy Awards'), ('Nazi', 'Nazis'), ('Anglo-Saxon', 'Anglo-Saxons'), ('Basilica', 'Basilicas'), ('British Bangladeshi', 'British Bangladeshis'), ('Castle', 'Castles'), ('Latitude', 'Latitudes'), ('Oat', 'Oats'), ('Roman Road', 'Roman Roads'), ('Atheist', 'Atheists'), ('Germanic Language', 'Germanic Languages'), ('Ice Age', 'Ice Ages'), ('Megawatt', 'Megawatts'), ('European Canoe Polo Championship', 'European Canoe Polo Championships'), ('National Paralympic Committee', 'National Paralympic Committees'), ('Amateur Sport', 'Amateur Sports'), ('Net Sport', 'Net Sports'), ('British Protectorate', 'British Protectorates'), ('Seventh-Day Adventist', 'Seventh-Day Adventists'), ('Tectonic', 'Tectonics'), ('Barbarian', 'Barbarians'), ('Commoner', 'Commoners'), ('French Wine', 'French Wines'), ('Huguenot', 'Huguenots'), ('Middle Age', 'Middle Ages'), ('Diphthong', 'Diphthongs'), ('Infinitive', 'Infinitives'), ('Pacific Island', 'Pacific Islands'), ('Arab', 'Arabs'), ('Loanword', 'Loanwords'), ('Georgian Railway', 'Georgian Railways'), ('Illuminated Manuscript', 'Illuminated Manuscripts'), ('Meskhetian Turk', 'Meskhetian Turks'), ('Motorway', 'Motorways'), ('Pontic Greek', 'Pontic Greeks'), ('Christmas Tree', 'Christmas Trees'), ('Coalition Government', 'Coalition Governments'), ('Roman Legion', 'Roman Legions'), ('Slavic People', 'Slavic Peoples'), ('Armed Force', 'Armed Forces'), ('Bird', 'Birds'), ('Paratrooper', 'Paratroopers'), ('Pentecostal', 'Pentecostals'), ('Fortification', 'Fortifications'), ('Hindu', 'Hindus'), ('Additive Color', 'Additive Colors'), ('Blue', 'Blues'), ('Complementary Color', 'Complementary Colors'), ('Firework', 'Fireworks'), ('Leek', 'Leeks'), ('Primary Color', 'Primary Colors'), ('Buddhist', 'Buddhists'), ('Germanic People', 'Germanic Peoples'), ('Hungarian Defence Force', 'Hungarian Defence Forces'), ('Iihf World Championship', 'Iihf World Championships'), ('Small And Medium Enterprise', 'Small And Medium Enterprises'), ('Conifer', 'Conifers'), ('Proto-Indo-European', 'Proto-Indo-Europeans'), ('Ulster Scots Dialect', 'Ulster Scots Dialects'), ('Hominid', 'Hominids'), ('Israeli Settlement', 'Israeli Settlements'), ('Palestinian Refugee', 'Palestinian Refugees'), ('Satellite', 'Satellites'), ('War Crime', 'War Crimes'), ('Great Serb Migration', 'Great Serb Migrations'), ('Lake', 'Lakes'), ('Participle', 'Participles'), ('Concentration Camp', 'Concentration Camps'), ('Baltic Language', 'Baltic Languages'), ('Pharmaceutical', 'Pharmaceuticals'), ('Professional Sport', 'Professional Sports'), ('Area Code', 'Area Codes'), ('City-State', 'City-States'), ('Dolmen', 'Dolmens'), ('Presbyterian', 'Presbyterians'), ('Semitic Language', 'Semitic Languages'), ('Sixth Form College', 'Sixth Form Colleges'), ('Dodo', 'Dodos'), ('Indentured Servant', 'Indentured Servants'), ('Indo-Mauritian', 'Indo-Mauritians'), ('Mauritian', 'Mauritians'), ('Mauritian Creole', 'Mauritian Creoles'), ('Competition', 'Competitions'), ('Vlach', 'Vlachs'), ('Sanjak', 'Sanjaks'), ('Baptist', 'Baptists'), ('Hectare', 'Hectares'), ('Us Army Air Force', 'Us Army Air Forces'), ('Business Magnate', 'Business Magnates'), ('Ice Sheet', 'Ice Sheets'), ('Sea Level', 'Sea Levels'), ('Trading Post', 'Trading Posts'), ('Roller Sport', 'Roller Sports'), ('Humpback Whale', 'Humpback Whales'), ('Pitcairn Island', 'Pitcairn Islands'), ('Domestic Animal', 'Domestic Animals'), ('Flower', 'Flowers'), ('Hornwort', 'Hornworts'), ('Medicinal Plant', 'Medicinal Plants'), ('Spore', 'Spores'), ('Celt', 'Celts'), ('Franciscan', 'Franciscans'), ('Irish Regiment', 'Irish Regiments'), ('Cosmonaut', 'Cosmonauts'), ('Handicraft', 'Handicrafts'), ('Islamist', 'Islamists'), ('Mongol', 'Mongols'), ('Potential Superpower', 'Potential Superpowers'), ('Russian Oligarch', 'Russian Oligarchs'), ('Steppe', 'Steppes'), ('Strategic Bomber', 'Strategic Bombers'), ('Island Carib', 'Island Caribs'), ('Union Island', 'Union Islands'), ('Playoff', 'Playoffs'), ('Spectator Sport', 'Spectator Sports'), ('United Soccer League', 'United Soccer Leagues'), ('Financial Service', 'Financial Services'), ('Irish Catholic', 'Irish Catholics'), ('Nation-State', 'Nation-States'), ('Red Squirrel', 'Red Squirrels'), ('Scottish Clan', 'Scottish Clans'), ('Miroslav Gospel', 'Miroslav Gospels'), ('Adventist', 'Adventists'), ('Methodist', 'Methodists'), ('Arawak', 'Arawaks'), ('Impressionist', 'Impressionists'), ('Landing', 'Landings'), ('Gospel', 'Gospels'), ('Visual Art', 'Visual Arts'), ('Cossack', 'Cossacks'), ('Evangelical Protestant', 'Evangelical Protestants'), ('Nyon', 'Nyons'), ('Ski Resort', 'Ski Resorts'), ('British And Irish Lion', 'British And Irish Lions'), ('Homosexual', 'Homosexuals'), ('Land Reform', 'Land Reforms'), ('Plateau', 'Plateaus'), ('Argentine', 'Argentines'), ('Nigerian', 'Nigerians'), ('Serf', 'Serfs'), ('Varangian', 'Varangians'), ('Himalaya', 'Himalayas'), ('European Snow Volleyball Championship', 'European Snow Volleyball Championships'), ('Ball Game', 'Ball Games')]\n",
            "[('Commander-In-Chief', 'Commander In Chief'), ('Polish Government-In-Exile', 'Polish Government In Exile'), ('Louis-Antoine De Bougainville', 'Louis Antoine De Bougainville'), ('Pan-American Games', 'Pan American Games'), ('Brussels-Capital Region', 'Brussels Capital Region'), ('Mid-Ulster English', 'Mid Ulster English'), ('Case-Law', 'Case Law'), ('Top-Level Domain', 'Top Level Domain'), ('Value-Added Tax', 'Value Added Tax'), ('Anglo-Scottish Border', 'Anglo Scottish Border'), ('High-Income Economy', 'High Income Economy'), ('Light-Flyweight', 'Light Flyweight'), ('Light-Heavyweight', 'Light Heavyweight'), ('Super-Bantamweight', 'Super Bantamweight'), ('Super-Featherweight', 'Super Featherweight'), ('Super-Flyweight', 'Super Flyweight'), ('Super-Middleweight', 'Super Middleweight'), ('Paddle-To-The-Sea', 'Paddle To The Sea'), ('Governor-General Of Tuvalu', 'Governor General Of Tuvalu'), ('Jean-Étienne Championnet', 'Jean Étienne Championnet'), ('Puy-De-Dôme', 'Puy De Dôme'), ('Baden-Württemberg', 'Baden Württemberg'), ('Al-Khidr', 'Al Khidr'), ('Upper-Hungary', 'Upper Hungary'), ('Super-G', 'Super G'), ('Grand-Duke Of Luxembourg', 'Grand Duke Of Luxembourg'), ('Light-Rail', 'Light Rail'), ('Port-Louis', 'Port Louis'), ('Vice-President Of Mauritius', 'Vice President Of Mauritius'), ('Sharm El-Sheikh', 'Sharm El Sheikh'), ('German South-West Africa', 'German South West Africa'), ('Soccer-Specific Stadium', 'Soccer Specific Stadium'), ('Al-Nassr Fc', 'Al Nassr Fc'), ('Yasser Al-Mosailem', 'Yasser Al Mosailem'), ('First-Past-The-Post', 'First Past The Post'), ('Nation-State', 'Nation State'), ('Scorched-Earth', 'Scorched Earth'), ('Bab-El-Mandeb', 'Bab El Mandeb'), ('Table-Tennis', 'Table Tennis'), ('Paddle-Ball', 'Paddle Ball')]\n"
          ],
          "name": "stdout"
        }
      ]
    },
    {
      "cell_type": "code",
      "metadata": {
        "id": "v-sVmJQchY0f"
      },
      "source": [
        "#nx.contracted cria um novo atributo nó/link chamado contração\n",
        "#o valor do atributo é um dicionário, mas GraphML não suporta valores atributos de dicionário\n",
        "nx.set_node_attributes(g, 0,\"contraction\")\n",
        "nx.set_edge_attributes(g, 0,\"contraction\")"
      ],
      "execution_count": 11,
      "outputs": []
    },
    {
      "cell_type": "code",
      "metadata": {
        "colab": {
          "base_uri": "https://localhost:8080/"
        },
        "id": "2c7sGqySiGA9",
        "outputId": "02104939-dd6b-454e-9b3c-6bda632ecc68"
      },
      "source": [
        "print(\"{} nós, {} links\".format(len(g), nx.number_of_edges(g)))"
      ],
      "execution_count": 12,
      "outputs": [
        {
          "output_type": "stream",
          "text": [
            "75369 nós, 195829 links\n"
          ],
          "name": "stdout"
        }
      ]
    },
    {
      "cell_type": "markdown",
      "metadata": {
        "id": "9rancS8DlG1e"
      },
      "source": [
        "#4- Truncar a Rede"
      ]
    },
    {
      "cell_type": "code",
      "metadata": {
        "colab": {
          "base_uri": "https://localhost:8080/",
          "height": 407
        },
        "id": "fBi1tV8OlGBu",
        "outputId": "4441ab5d-59cb-48b3-f496-aafcae073f00"
      },
      "source": [
        "plt.style.use(\"default\")\n",
        "# degree sequence\n",
        "degree_sequence = sorted([d for n, d in g.degree()], reverse=True)  \n",
        "\n",
        "fig, ax = plt.subplots(1,2,figsize=(8,4))\n",
        "\n",
        "# all_data has information about degree_sequence and the width of each bin\n",
        "ax[0].hist(degree_sequence)\n",
        "ax[1].hist(degree_sequence,bins=[1,2,3,4,5,6,7,8,9,10])\n",
        "\n",
        "ax[0].set_title(\"Degree Histogram\")\n",
        "ax[0].set_ylabel(\"Count\")\n",
        "ax[0].set_xlabel(\"Degree\")\n",
        "ax[0].set_ylim(0,80000)\n",
        "\n",
        "ax[1].set_title(\"Degree Histogram - Zoom\")\n",
        "ax[1].set_ylabel(\"Count\")\n",
        "ax[1].set_xlabel(\"Degree\")\n",
        "ax[1].set_xlim(0,10)\n",
        "ax[1].set_ylim(0,80000)\n",
        "\n",
        "plt.tight_layout()\n",
        "plt.show()"
      ],
      "execution_count": 13,
      "outputs": [
        {
          "output_type": "display_data",
          "data": {
            "image/png": "[encoded data removed]",
            "text/plain": [
              "<Figure size 800x400 with 2 Axes>"
            ]
          },
          "metadata": {}
        }
      ]
    },
    {
      "cell_type": "code",
      "metadata": {
        "colab": {
          "base_uri": "https://localhost:8080/"
        },
        "id": "LbPMIRmDl3cl",
        "outputId": "4cab8eed-7b92-455d-cf01-33b3d4a1e80f"
      },
      "source": [
        "# filter nodes with degree greater than or equal to 5\n",
        "core = [node for node, deg in dict(g.degree()).items() if deg >= 5]\n",
        "\n",
        "# select a subgraph with 'core' nodes\n",
        "gsub = nx.subgraph(g, core)\n",
        "\n",
        "print(\"{} nodes, {} edges\".format(len(gsub), nx.number_of_edges(gsub)))\n",
        "\n",
        "nx.write_graphml(gsub, \"voleibol.graphml\")"
      ],
      "execution_count": 16,
      "outputs": [
        {
          "output_type": "stream",
          "text": [
            "4536 nodes, 107567 edges\n"
          ],
          "name": "stdout"
        }
      ]
    },
    {
      "cell_type": "markdown",
      "metadata": {
        "id": "FU37Gxm5mPem"
      },
      "source": [
        "#5 - Determinação dos nós mais importantes"
      ]
    },
    {
      "cell_type": "code",
      "metadata": {
        "colab": {
          "base_uri": "https://localhost:8080/"
        },
        "id": "lVP-Mqo4mPIu",
        "outputId": "ae804b42-0fb0-421a-f324-ce21845274f7"
      },
      "source": [
        "#Definição dos nós principais\n",
        "top_indegree = sorted(dict(gsub.in_degree()).items(),\n",
        "                      reverse=True, key=itemgetter(1))[:10]\n",
        "print(\"\\n\".join(map(lambda t: \"{} {}\".format(*reversed(t)), top_indegree)))"
      ],
      "execution_count": 17,
      "outputs": [
        {
          "output_type": "stream",
          "text": [
            "315 Volleyball\n",
            "272 Fédération Internationale De Volleyball\n",
            "271 Asian Volleyball Confederation\n",
            "267 European Volleyball Confederation\n",
            "251 Fivb Volleyball Women'S World Championship\n",
            "251 Fivb Volleyball Men'S World Championship\n",
            "249 Volleyball At The Summer Olympics\n",
            "247 Fivb Volleyball Men'S World Cup\n",
            "246 Fivb Volleyball Women'S World Cup\n",
            "245 Confederación Sudamericana De Voleibol\n"
          ],
          "name": "stdout"
        }
      ]
    }
  ]
}